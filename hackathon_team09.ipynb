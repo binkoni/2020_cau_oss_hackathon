{
  "nbformat": 4,
  "nbformat_minor": 0,
  "metadata": {
    "accelerator": "GPU",
    "colab": {
      "name": "hackathon_team09",
      "provenance": [],
      "collapsed_sections": [],
      "include_colab_link": true
    },
    "kernelspec": {
      "display_name": "Python 3",
      "language": "python",
      "name": "python3"
    },
    "language_info": {
      "codemirror_mode": {
        "name": "ipython",
        "version": 3
      },
      "file_extension": ".py",
      "mimetype": "text/x-python",
      "name": "python",
      "nbconvert_exporter": "python",
      "pygments_lexer": "ipython3",
      "version": "3.7.4"
    }
  },
  "cells": [
    {
      "cell_type": "markdown",
      "metadata": {
        "id": "view-in-github",
        "colab_type": "text"
      },
      "source": [
        "<a href=\"https://colab.research.google.com/github/snapperbay4453/2020_cau_oss_hackathon/blob/master/hackathon_team09.ipynb\" target=\"_parent\"><img src=\"https://colab.research.google.com/assets/colab-badge.svg\" alt=\"Open In Colab\"/></a>"
      ]
    },
    {
      "cell_type": "markdown",
      "metadata": {
        "colab_type": "text",
        "id": "1AosAX9DXOlc"
      },
      "source": [
        "# **0. 해커톤 진행 주의사항**\n",
        "\n",
        "**1)  개발 관련 주의사항**\n",
        "*   [1. 초기 환경 설정]은 절대 수정하지 말 것\n",
        "*   모든 구현은 [2. 데이터 전처리] 및 [3.모델 생성]에서만 진행\n",
        "*   [4. 모델 저장]에서 team_name 변수 변경 (예.`team_name = 'team01'`)\n",
        " *    트레이닝 중간에 checkpoint를 활용하여 모델을 저장한 경우에도 파일 이름 양식 통일 필수\n",
        "*   Colab 사용중 실수로 데이터 손실이 발생할 수도 있으니 중간 결과값을 github에 업로드 \n",
        " *    \"런타임->모든 런타임 재설정\"은 절대 누르지 말 것 (저장한 모델 데이터가 모두 삭제됨)\n",
        "*   효율적인 구현 및 테스팅을 위해 GPU 가속 기능 활성화\n",
        " *    \"런타임 -> 런타임 유형변경 -> 하드웨어 가속기 -> GPU 설정\"\n",
        "*   주석을 최대한 자세히 작성\n",
        "*   Keras API 관련하여 [Keras Documentation](https://keras.io/) 참조\n",
        "\n",
        "**2) 제출 관련 주의사항**\n",
        "*  제출물\n",
        " *  소스코드 (hackathon_teamXX.ipynb)\n",
        " *  컴파일된 모델 파일 (model_entire_teamXX.h5)\n",
        " *  모델 발표 자료 \n",
        "* 제출 기한: **오후 5시 (단, 발표자료는 11시)**\n",
        "* 제출 방법: [GitHub README](https://github.com/cauosshackathonta/2020_cau_oss_hackathon/) 참조\n",
        "\n",
        " \n",
        "**3) 평가 관련 주의사항**\n",
        "*  모델 성능 = 테스트 데이터 셋 분류 정확도\n",
        " *  model.evaluate(x_test, y_test)\n",
        "*  제출된 모델들의 테스트 데이터 셋 분류 정확도를 기준으로 수상작 결정\n",
        "*  수상 후보들에 대해서는 소스코드를 기반으로 모델 재검증 \n",
        " \n",
        "**4) 수상 실격 사유**\n",
        "*  유사한 소스코드 or 알고리즘이 적발될 경우\n",
        "*  소스코드와 제출된 모델이 상이한 경우\n",
        "*  개발 관련 주의사항을 지키지 않은 경우\n",
        " *  예: [초기 환경 설정]을 수정한 경우\n",
        "*  데이터 셋을 변조한 경우\n",
        " *  예. 테스트 데이터 셋을 트레이닝 데이터 셋에 포함하여 모델 생성 \n",
        "*  주석이 소스코드와 맞지 않거나 미비할 경우\n",
        "\n",
        "\n",
        "\n",
        "\n"
      ]
    },
    {
      "cell_type": "markdown",
      "metadata": {
        "colab_type": "text",
        "id": "67lwEXhUqys1"
      },
      "source": [
        "# **1. 초기 환경 설정**\n",
        "\n"
      ]
    },
    {
      "cell_type": "code",
      "metadata": {
        "colab_type": "code",
        "id": "Ms5PBBJ1qSC6",
        "colab": {
          "base_uri": "https://localhost:8080/",
          "height": 334
        },
        "outputId": "3d700f95-3424-4b88-dace-6cbf8e15add5"
      },
      "source": [
        "from __future__ import absolute_import, division, print_function, unicode_literals, unicode_literals\n",
        "\n",
        "# tensorflow와 tf.keras 및 관련 라이브러리 임포트\n",
        "import tensorflow as tf\n",
        "from tensorflow import keras\n",
        "from keras.utils import np_utils\n",
        "\n",
        "import numpy as np\n",
        "\n",
        "# 데이터셋 다운로드\n",
        "check = !if [ -d 'dataset/' ]; then echo \"1\" ; else echo \"0\"; fi\n",
        "if (check[0] is '0' ):\n",
        "  !mkdir dataset\n",
        "  !wget 'https://www.itl.nist.gov/iaui/vip/cs_links/EMNIST/matlab.zip'\n",
        "  !unzip matlab.zip -d /content/dataset\n",
        "\n",
        "# 데이터셋 로드\n",
        "from scipy import io as spio\n",
        "emnist = spio.loadmat(\"/content/dataset/matlab/emnist-balanced.mat\")\n",
        "\n",
        "x_train = emnist[\"dataset\"][0][0][0][0][0][0]\n",
        "y_train = emnist[\"dataset\"][0][0][0][0][0][1]\n",
        "\n",
        "x_test = emnist[\"dataset\"][0][0][1][0][0][0]\n",
        "y_test = emnist[\"dataset\"][0][0][1][0][0][1]\n",
        "\n",
        "# # 분류를 위해 클래스 벡터를 바이너리 매트릭스로 변환\n",
        "y_train = np_utils.to_categorical(y_train)\n",
        "y_test = np_utils.to_categorical(y_test)\n",
        "\n",
        "# 데이터 28x28 이미지화\n",
        "x_train = x_train.reshape(x_train.shape[0], 28, 28, 1).astype('float32')\n",
        "x_test = x_test.reshape(x_test.shape[0], 28, 28, 1).astype('float32')\n",
        "\n",
        "# 총 클래스 개수\n",
        "num_classes = y_test.shape[1]\n",
        "input_shape = x_test.shape[1:]"
      ],
      "execution_count": 1,
      "outputs": [
        {
          "output_type": "stream",
          "text": [
            "--2020-08-29 01:27:00--  https://www.itl.nist.gov/iaui/vip/cs_links/EMNIST/matlab.zip\n",
            "Resolving www.itl.nist.gov (www.itl.nist.gov)... 132.163.4.36, 2610:20:6b01:4::36\n",
            "Connecting to www.itl.nist.gov (www.itl.nist.gov)|132.163.4.36|:443... connected.\n",
            "HTTP request sent, awaiting response... 200 OK\n",
            "Length: 743900280 (709M) [application/zip]\n",
            "Saving to: ‘matlab.zip’\n",
            "\n",
            "matlab.zip          100%[===================>] 709.44M  15.8MB/s    in 47s     \n",
            "\n",
            "2020-08-29 01:27:48 (15.2 MB/s) - ‘matlab.zip’ saved [743900280/743900280]\n",
            "\n",
            "Archive:  matlab.zip\n",
            "  inflating: /content/dataset/matlab/emnist-balanced.mat  \n",
            "  inflating: /content/dataset/matlab/emnist-byclass.mat  \n",
            "  inflating: /content/dataset/matlab/emnist-bymerge.mat  \n",
            "  inflating: /content/dataset/matlab/emnist-digits.mat  \n",
            "  inflating: /content/dataset/matlab/emnist-letters.mat  \n",
            "  inflating: /content/dataset/matlab/emnist-mnist.mat  \n"
          ],
          "name": "stdout"
        }
      ]
    },
    {
      "cell_type": "markdown",
      "metadata": {
        "id": "urb4fzGTQpS-",
        "colab_type": "text"
      },
      "source": [
        "테스트용 노트북"
      ]
    },
    {
      "cell_type": "markdown",
      "metadata": {
        "colab_type": "text",
        "id": "A-YjppJpXBO9"
      },
      "source": [
        "# **2. 데이터 전처리**\n",
        "\n"
      ]
    },
    {
      "cell_type": "code",
      "metadata": {
        "colab_type": "code",
        "id": "QZ9KWTBP6AI1",
        "colab": {
          "base_uri": "https://localhost:8080/",
          "height": 53
        },
        "outputId": "f54edf5d-0fa7-4fcf-f586-8ebdd44a9101"
      },
      "source": [
        "# 데이터 전처리 (예: normalization)\n",
        "x_train_after = (x_train - np.mean(x_train)) / np.std(x_train)\n",
        "x_test_after = (x_test - np.mean(x_test)) / np.std(x_test)\n",
        "\n",
        "data_generator = tf.keras.preprocessing.image.ImageDataGenerator(\n",
        "    rotation_range=10,  \n",
        "    zoom_range = 0.1,  \n",
        "    width_shift_range=0.1, \n",
        "    height_shift_range=0.1,\n",
        "    shear_range=0.1,\n",
        "    channel_shift_range=0.1\n",
        ")"
      ],
      "execution_count": 39,
      "outputs": [
        {
          "output_type": "execute_result",
          "data": {
            "application/vnd.google.colaboratory.intrinsic+json": {
              "type": "string"
            },
            "text/plain": [
              "'\\ndata_generator = tf.keras.preprocessing.image.ImageDataGenerator(\\n    rescale= 1.0 / 255,\\n    rotation_range=360,\\n    channel_shift_range=0.5,\\n    width_shift_range=0.5,\\n    height_shift_range=0.5,\\n    shear_range=0.5,\\n    zoom_range=0.5,\\n    horizontal_flip=True,\\n    vertical_flip=True\\n)\\n'"
            ]
          },
          "metadata": {
            "tags": []
          },
          "execution_count": 39
        }
      ]
    },
    {
      "cell_type": "markdown",
      "metadata": {
        "colab_type": "text",
        "id": "v-lo-O1yiFpY"
      },
      "source": [
        "# **3. 모델 생성**"
      ]
    },
    {
      "cell_type": "code",
      "metadata": {
        "colab_type": "code",
        "id": "DZP4eRmRqgRp",
        "colab": {
          "base_uri": "https://localhost:8080/",
          "height": 1000
        },
        "outputId": "a35f07f1-91a6-4c27-d96d-d3d89596ef60"
      },
      "source": [
        "# 순차 모델 생성 (가장 기본구조)\n",
        "model = keras.Sequential()\n",
        "\n",
        "# 1차 히든 CNN 레이어 그룹\n",
        "model.add(keras.layers.Conv2D(filters = 128, kernel_size = (3, 3), input_shape = input_shape, activation='relu', padding = 'same'))\n",
        "model.add(keras.layers.BatchNormalization())\n",
        "model.add(keras.layers.Conv2D(filters = 128, kernel_size = (3, 3), activation='relu', padding = 'same'))\n",
        "model.add(keras.layers.BatchNormalization())\n",
        "model.add(keras.layers.Conv2D(filters = 128, kernel_size = (3, 3), activation='relu', padding = 'same'))\n",
        "model.add(keras.layers.BatchNormalization())\n",
        "\n",
        "# 1차 풀링 및 드롭아웃 그룹\n",
        "model.add(keras.layers.MaxPooling2D(pool_size = (2, 2)))\n",
        "model.add(keras.layers.Dropout(rate = 0.5))\n",
        "\n",
        "# 2차 히든 CNN 레이어 그룹\n",
        "model.add(keras.layers.Conv2D(filters = 256, kernel_size = (3, 3), activation='relu', padding = 'same'))\n",
        "model.add(keras.layers.BatchNormalization())\n",
        "model.add(keras.layers.Conv2D(filters = 256, kernel_size = (3, 3), activation='relu', padding = 'same'))\n",
        "model.add(keras.layers.BatchNormalization())\n",
        "model.add(keras.layers.Conv2D(filters = 256, kernel_size = (3, 3), activation='relu', padding = 'valid'))\n",
        "model.add(keras.layers.BatchNormalization())\n",
        "\n",
        "# 2차 풀링 및 드롭아웃 그룹\n",
        "model.add(keras.layers.MaxPooling2D(pool_size = (2, 2)))\n",
        "model.add(keras.layers.Dropout(rate = 0.5))\n",
        "\n",
        "# Flattern 레이어\n",
        "model.add(keras.layers.Flatten(input_shape = input_shape))\n",
        "\n",
        "# Dense 레이어 그룹\n",
        "model.add(keras.layers.Dense(units = 512, activation = 'relu'))\n",
        "model.add(keras.layers.Dense(units = 256, activation = 'relu'))\n",
        "model.add(keras.layers.Dense(units = num_classes, activation = tf.nn.softmax))\n",
        "\n",
        "# 모델 컴파일\n",
        "# optimizer: 모델을 업데이트 하는 방식\n",
        "# loss: 모델의 정확도를 판단하는 방식\n",
        "# metrics: 트레이닝 및 테스팅 성능 모니터링을 위한 평가지표\n",
        "\n",
        "#opt = keras.optimizers.Adam(learning_rate=0.01)\n",
        "model.compile(loss='categorical_crossentropy', optimizer='adam', metrics=['accuracy'])\n",
        "model.summary()\n",
        "\n",
        "# 모델 과적합 방지를 위한 얼리스토퍼 생성\n",
        "early_stopper = tf.keras.callbacks.EarlyStopping(monitor = 'val_loss', mode = 'min', verbose = 1, patience = 5)\n",
        "\n",
        "# 체크포인트 생성\n",
        "cp_callback = tf.keras.callbacks.ModelCheckpoint(filepath='/content/checkpoint_entire_best.h5', monitor='val_accuracy', verbose=1, save_weight_only=False, save_best_only=True, mode='auto')\n",
        "\n",
        "# 모델 트레이닝\n",
        "# batch_size: 전체 데이터셋 중 몇개씩 학습시킬 것인지\n",
        "# epoch: 학습에 전체 데이터셋이 총 몇번 이용될 것인지\n",
        "# shuffle: 학습전에 트레이닝 데이터셋을 랜덤하게 섞을 것인지\n",
        "# validation_data: 중간 성능 검증에 사용할 data set\n",
        "\n",
        "history = model.fit_generator(\n",
        "    data_generator.flow(x_train_after, y_train, batch_size=128),\n",
        "    epochs = 1000, shuffle = True,\n",
        "    callbacks=[early_stopper, cp_callback],\n",
        "    validation_data=(x_test_after, y_test)\n",
        ")"
      ],
      "execution_count": 83,
      "outputs": [
        {
          "output_type": "stream",
          "text": [
            "Model: \"sequential_50\"\n",
            "_________________________________________________________________\n",
            "Layer (type)                 Output Shape              Param #   \n",
            "=================================================================\n",
            "conv2d_211 (Conv2D)          (None, 28, 28, 128)       1280      \n",
            "_________________________________________________________________\n",
            "batch_normalization_63 (Batc (None, 28, 28, 128)       512       \n",
            "_________________________________________________________________\n",
            "conv2d_212 (Conv2D)          (None, 28, 28, 128)       147584    \n",
            "_________________________________________________________________\n",
            "batch_normalization_64 (Batc (None, 28, 28, 128)       512       \n",
            "_________________________________________________________________\n",
            "conv2d_213 (Conv2D)          (None, 28, 28, 128)       147584    \n",
            "_________________________________________________________________\n",
            "batch_normalization_65 (Batc (None, 28, 28, 128)       512       \n",
            "_________________________________________________________________\n",
            "max_pooling2d_85 (MaxPooling (None, 14, 14, 128)       0         \n",
            "_________________________________________________________________\n",
            "dropout_132 (Dropout)        (None, 14, 14, 128)       0         \n",
            "_________________________________________________________________\n",
            "conv2d_214 (Conv2D)          (None, 14, 14, 256)       295168    \n",
            "_________________________________________________________________\n",
            "batch_normalization_66 (Batc (None, 14, 14, 256)       1024      \n",
            "_________________________________________________________________\n",
            "conv2d_215 (Conv2D)          (None, 14, 14, 256)       590080    \n",
            "_________________________________________________________________\n",
            "batch_normalization_67 (Batc (None, 14, 14, 256)       1024      \n",
            "_________________________________________________________________\n",
            "conv2d_216 (Conv2D)          (None, 12, 12, 256)       590080    \n",
            "_________________________________________________________________\n",
            "batch_normalization_68 (Batc (None, 12, 12, 256)       1024      \n",
            "_________________________________________________________________\n",
            "max_pooling2d_86 (MaxPooling (None, 6, 6, 256)         0         \n",
            "_________________________________________________________________\n",
            "dropout_133 (Dropout)        (None, 6, 6, 256)         0         \n",
            "_________________________________________________________________\n",
            "flatten_46 (Flatten)         (None, 9216)              0         \n",
            "_________________________________________________________________\n",
            "dense_127 (Dense)            (None, 512)               4719104   \n",
            "_________________________________________________________________\n",
            "dense_128 (Dense)            (None, 256)               131328    \n",
            "_________________________________________________________________\n",
            "dense_129 (Dense)            (None, 47)                12079     \n",
            "=================================================================\n",
            "Total params: 6,638,895\n",
            "Trainable params: 6,636,591\n",
            "Non-trainable params: 2,304\n",
            "_________________________________________________________________\n",
            "Epoch 1/1000\n",
            "  2/882 [..............................] - ETA: 37s - loss: 7.9457 - accuracy: 0.0156   WARNING:tensorflow:Callbacks method `on_train_batch_end` is slow compared to the batch time (batch time: 0.0309s vs `on_train_batch_end` time: 0.0535s). Check your callbacks.\n",
            "882/882 [==============================] - ETA: 0s - loss: 0.9089 - accuracy: 0.7299\n",
            "Epoch 00001: val_accuracy improved from -inf to 0.82223, saving model to /content/checkpoint_entire_best.h5\n",
            "882/882 [==============================] - 64s 73ms/step - loss: 0.9089 - accuracy: 0.7299 - val_loss: 0.5264 - val_accuracy: 0.8222\n",
            "Epoch 2/1000\n",
            "882/882 [==============================] - ETA: 0s - loss: 0.4648 - accuracy: 0.8381\n",
            "Epoch 00002: val_accuracy improved from 0.82223 to 0.84851, saving model to /content/checkpoint_entire_best.h5\n",
            "882/882 [==============================] - 64s 72ms/step - loss: 0.4648 - accuracy: 0.8381 - val_loss: 0.4468 - val_accuracy: 0.8485\n",
            "Epoch 3/1000\n",
            "882/882 [==============================] - ETA: 0s - loss: 0.4083 - accuracy: 0.8537\n",
            "Epoch 00003: val_accuracy improved from 0.84851 to 0.85835, saving model to /content/checkpoint_entire_best.h5\n",
            "882/882 [==============================] - 64s 72ms/step - loss: 0.4083 - accuracy: 0.8537 - val_loss: 0.4022 - val_accuracy: 0.8584\n",
            "Epoch 4/1000\n",
            "882/882 [==============================] - ETA: 0s - loss: 0.3798 - accuracy: 0.8626\n",
            "Epoch 00004: val_accuracy improved from 0.85835 to 0.87005, saving model to /content/checkpoint_entire_best.h5\n",
            "882/882 [==============================] - 64s 72ms/step - loss: 0.3798 - accuracy: 0.8626 - val_loss: 0.3624 - val_accuracy: 0.8701\n",
            "Epoch 5/1000\n",
            "882/882 [==============================] - ETA: 0s - loss: 0.3594 - accuracy: 0.8682\n",
            "Epoch 00005: val_accuracy improved from 0.87005 to 0.87957, saving model to /content/checkpoint_entire_best.h5\n",
            "882/882 [==============================] - 64s 72ms/step - loss: 0.3594 - accuracy: 0.8682 - val_loss: 0.3514 - val_accuracy: 0.8796\n",
            "Epoch 6/1000\n",
            "882/882 [==============================] - ETA: 0s - loss: 0.3468 - accuracy: 0.8720\n",
            "Epoch 00006: val_accuracy did not improve from 0.87957\n",
            "882/882 [==============================] - 64s 72ms/step - loss: 0.3468 - accuracy: 0.8720 - val_loss: 0.3345 - val_accuracy: 0.8790\n",
            "Epoch 7/1000\n",
            "882/882 [==============================] - ETA: 0s - loss: 0.3355 - accuracy: 0.8758\n",
            "Epoch 00007: val_accuracy improved from 0.87957 to 0.88622, saving model to /content/checkpoint_entire_best.h5\n",
            "882/882 [==============================] - 63s 72ms/step - loss: 0.3355 - accuracy: 0.8758 - val_loss: 0.3167 - val_accuracy: 0.8862\n",
            "Epoch 8/1000\n",
            "882/882 [==============================] - ETA: 0s - loss: 0.3242 - accuracy: 0.8791\n",
            "Epoch 00008: val_accuracy improved from 0.88622 to 0.88979, saving model to /content/checkpoint_entire_best.h5\n",
            "882/882 [==============================] - 63s 72ms/step - loss: 0.3242 - accuracy: 0.8791 - val_loss: 0.3118 - val_accuracy: 0.8898\n",
            "Epoch 9/1000\n",
            "882/882 [==============================] - ETA: 0s - loss: 0.3156 - accuracy: 0.8821\n",
            "Epoch 00009: val_accuracy did not improve from 0.88979\n",
            "882/882 [==============================] - 63s 72ms/step - loss: 0.3156 - accuracy: 0.8821 - val_loss: 0.3349 - val_accuracy: 0.8805\n",
            "Epoch 10/1000\n",
            "882/882 [==============================] - ETA: 0s - loss: 0.3060 - accuracy: 0.8858\n",
            "Epoch 00010: val_accuracy did not improve from 0.88979\n",
            "882/882 [==============================] - 63s 72ms/step - loss: 0.3060 - accuracy: 0.8858 - val_loss: 0.3384 - val_accuracy: 0.8797\n",
            "Epoch 11/1000\n",
            "882/882 [==============================] - ETA: 0s - loss: 0.3021 - accuracy: 0.8864\n",
            "Epoch 00011: val_accuracy improved from 0.88979 to 0.89144, saving model to /content/checkpoint_entire_best.h5\n",
            "882/882 [==============================] - 63s 72ms/step - loss: 0.3021 - accuracy: 0.8864 - val_loss: 0.3176 - val_accuracy: 0.8914\n",
            "Epoch 12/1000\n",
            "882/882 [==============================] - ETA: 0s - loss: 0.2949 - accuracy: 0.8888\n",
            "Epoch 00012: val_accuracy did not improve from 0.89144\n",
            "882/882 [==============================] - 63s 72ms/step - loss: 0.2949 - accuracy: 0.8888 - val_loss: 0.3261 - val_accuracy: 0.8838\n",
            "Epoch 13/1000\n",
            "882/882 [==============================] - ETA: 0s - loss: 0.2901 - accuracy: 0.8894\n",
            "Epoch 00013: val_accuracy did not improve from 0.89144\n",
            "882/882 [==============================] - 63s 72ms/step - loss: 0.2901 - accuracy: 0.8894 - val_loss: 0.3110 - val_accuracy: 0.8897\n",
            "Epoch 14/1000\n",
            "882/882 [==============================] - ETA: 0s - loss: 0.2831 - accuracy: 0.8921\n",
            "Epoch 00014: val_accuracy did not improve from 0.89144\n",
            "882/882 [==============================] - 63s 72ms/step - loss: 0.2831 - accuracy: 0.8921 - val_loss: 0.3248 - val_accuracy: 0.8861\n",
            "Epoch 15/1000\n",
            "882/882 [==============================] - ETA: 0s - loss: 0.2798 - accuracy: 0.8930\n",
            "Epoch 00015: val_accuracy did not improve from 0.89144\n",
            "882/882 [==============================] - 63s 72ms/step - loss: 0.2798 - accuracy: 0.8930 - val_loss: 0.3177 - val_accuracy: 0.8870\n",
            "Epoch 16/1000\n",
            "882/882 [==============================] - ETA: 0s - loss: 0.2730 - accuracy: 0.8952\n",
            "Epoch 00016: val_accuracy improved from 0.89144 to 0.89559, saving model to /content/checkpoint_entire_best.h5\n",
            "882/882 [==============================] - 64s 72ms/step - loss: 0.2730 - accuracy: 0.8952 - val_loss: 0.3014 - val_accuracy: 0.8956\n",
            "Epoch 17/1000\n",
            "882/882 [==============================] - ETA: 0s - loss: 0.2693 - accuracy: 0.8963\n",
            "Epoch 00017: val_accuracy improved from 0.89559 to 0.89622, saving model to /content/checkpoint_entire_best.h5\n",
            "882/882 [==============================] - 63s 72ms/step - loss: 0.2693 - accuracy: 0.8963 - val_loss: 0.3008 - val_accuracy: 0.8962\n",
            "Epoch 18/1000\n",
            "882/882 [==============================] - ETA: 0s - loss: 0.2653 - accuracy: 0.8963\n",
            "Epoch 00018: val_accuracy did not improve from 0.89622\n",
            "882/882 [==============================] - 63s 72ms/step - loss: 0.2653 - accuracy: 0.8963 - val_loss: 0.3061 - val_accuracy: 0.8926\n",
            "Epoch 19/1000\n",
            "882/882 [==============================] - ETA: 0s - loss: 0.2616 - accuracy: 0.8977\n",
            "Epoch 00019: val_accuracy did not improve from 0.89622\n",
            "882/882 [==============================] - 63s 72ms/step - loss: 0.2616 - accuracy: 0.8977 - val_loss: 0.2990 - val_accuracy: 0.8955\n",
            "Epoch 20/1000\n",
            "882/882 [==============================] - ETA: 0s - loss: 0.2591 - accuracy: 0.8995\n",
            "Epoch 00020: val_accuracy did not improve from 0.89622\n",
            "882/882 [==============================] - 63s 71ms/step - loss: 0.2591 - accuracy: 0.8995 - val_loss: 0.2932 - val_accuracy: 0.8951\n",
            "Epoch 21/1000\n",
            "882/882 [==============================] - ETA: 0s - loss: 0.2558 - accuracy: 0.9007\n",
            "Epoch 00021: val_accuracy did not improve from 0.89622\n",
            "882/882 [==============================] - 63s 72ms/step - loss: 0.2558 - accuracy: 0.9007 - val_loss: 0.3023 - val_accuracy: 0.8950\n",
            "Epoch 22/1000\n",
            "882/882 [==============================] - ETA: 0s - loss: 0.2521 - accuracy: 0.9007\n",
            "Epoch 00022: val_accuracy improved from 0.89622 to 0.89771, saving model to /content/checkpoint_entire_best.h5\n",
            "882/882 [==============================] - 63s 72ms/step - loss: 0.2521 - accuracy: 0.9007 - val_loss: 0.3003 - val_accuracy: 0.8977\n",
            "Epoch 23/1000\n",
            "882/882 [==============================] - ETA: 0s - loss: 0.2491 - accuracy: 0.9026\n",
            "Epoch 00023: val_accuracy did not improve from 0.89771\n",
            "882/882 [==============================] - 63s 72ms/step - loss: 0.2491 - accuracy: 0.9026 - val_loss: 0.2994 - val_accuracy: 0.8940\n",
            "Epoch 24/1000\n",
            "882/882 [==============================] - ETA: 0s - loss: 0.2476 - accuracy: 0.9033\n",
            "Epoch 00024: val_accuracy did not improve from 0.89771\n",
            "882/882 [==============================] - 63s 72ms/step - loss: 0.2476 - accuracy: 0.9033 - val_loss: 0.3158 - val_accuracy: 0.8887\n",
            "Epoch 25/1000\n",
            "882/882 [==============================] - ETA: 0s - loss: 0.2438 - accuracy: 0.9047\n",
            "Epoch 00025: val_accuracy did not improve from 0.89771\n",
            "882/882 [==============================] - 63s 72ms/step - loss: 0.2438 - accuracy: 0.9047 - val_loss: 0.3046 - val_accuracy: 0.8947\n",
            "Epoch 00025: early stopping\n"
          ],
          "name": "stdout"
        }
      ]
    },
    {
      "cell_type": "code",
      "metadata": {
        "id": "WV6eWheKXyhn",
        "colab_type": "code",
        "colab": {
          "base_uri": "https://localhost:8080/",
          "height": 334
        },
        "outputId": "685eda3b-bd0c-4814-c20c-7d1d54890c9a"
      },
      "source": [
        "import matplotlib.pyplot as plt\n",
        "plt.figure(figsize = (10, 5))\n",
        "\n",
        "plt.plot(history.history['loss'], 'b-', label = 'train')\n",
        "plt.plot(history.history['val_loss'], 'r-', label = 'val')\n",
        "plt.xlabel('Epoch')\n",
        "plt.ylabel('Cross Entropy')\n",
        "plt.legend()\n",
        "\n",
        "plt.show()"
      ],
      "execution_count": 84,
      "outputs": [
        {
          "output_type": "display_data",
          "data": {
            "image/png": "[encoded data removed]",
            "text/plain": [
              "<Figure size 720x360 with 1 Axes>"
            ]
          },
          "metadata": {
            "tags": [],
            "needs_background": "light"
          }
        }
      ]
    },
    {
      "cell_type": "markdown",
      "metadata": {
        "colab_type": "text",
        "id": "QR9WUYXxqtfR"
      },
      "source": [
        "# **4. 모델 저장**"
      ]
    },
    {
      "cell_type": "code",
      "metadata": {
        "colab_type": "code",
        "id": "Wi9yznz4qvzK",
        "colab": {}
      },
      "source": [
        "save_path = '/content/'\n",
        "team_name = 'team09'\n",
        "\n",
        "# 트레이닝된 전체 모델을 저장합니다.\n",
        "model.save(save_path +  'model_entire_'+ team_name + '.h5')"
      ],
      "execution_count": 85,
      "outputs": []
    },
    {
      "cell_type": "markdown",
      "metadata": {
        "colab_type": "text",
        "id": "4aPbgI-c-Kj8"
      },
      "source": [
        "# **5. 모델 로드 및 평가**"
      ]
    },
    {
      "cell_type": "code",
      "metadata": {
        "colab_type": "code",
        "id": "y7WONVxH-Kt6",
        "colab": {
          "base_uri": "https://localhost:8080/",
          "height": 52
        },
        "outputId": "9a662cb2-3be1-423e-982b-e002887fb1b2"
      },
      "source": [
        "save_path = '/content/'\n",
        "team_name = 'team09'\n",
        "\n",
        "model = keras.models.load_model(save_path + 'model_entire_' + team_name + '.h5')\n",
        "\n",
        "model.evaluate(x_test_after, y_test)"
      ],
      "execution_count": 86,
      "outputs": [
        {
          "output_type": "stream",
          "text": [
            "588/588 [==============================] - 4s 7ms/step - loss: 0.3046 - accuracy: 0.8947\n"
          ],
          "name": "stdout"
        },
        {
          "output_type": "execute_result",
          "data": {
            "text/plain": [
              "[0.30462366342544556, 0.8947340250015259]"
            ]
          },
          "metadata": {
            "tags": []
          },
          "execution_count": 86
        }
      ]
    }
  ]
}